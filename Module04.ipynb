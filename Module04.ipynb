{
  "nbformat": 4,
  "nbformat_minor": 0,
  "metadata": {
    "colab": {
      "provenance": []
    },
    "kernelspec": {
      "name": "python3",
      "display_name": "Python 3"
    },
    "language_info": {
      "name": "python"
    }
  },
  "cells": [
    {
      "cell_type": "code",
      "execution_count": null,
      "metadata": {
        "id": "kR1K9aC1Fuhk"
      },
      "outputs": [],
      "source": []
    },
    {
      "cell_type": "markdown",
      "source": [
        "1) What are data structures, and why are they important?\n",
        "\n",
        "Answer:\n",
        "\n",
        "Data structures are techniques or methods that are used to store and organize data efficiently. They are important because they:\n",
        "1.\tEnable efficient data storage\n",
        "2.\tAllow fast retrieval and manipulation of data\n",
        "\n",
        "2) Explain the difference between mutable and immutable data types with examples.\n",
        "\n",
        "Answer:\n",
        "\n",
        "Mutable data types are the data types that can be changed after they are created, while immutable data types cannot be modified once created.\n",
        "Examples:\n",
        "•\tMutable: list, dict, set\n",
        "•\tImmutable: int, float, str, tuple\n",
        "\n",
        "3) What are the main differences between lists and tuples in Python?\n",
        "\n",
        "Answer:\n",
        "\n",
        "•\tLists are mutable i.e, we can modify, add, or remove elements.\n",
        "\n",
        "•\tTuples are immutable i.e, their contents cannot be changed after creation.\n",
        "\n",
        "•\tLists use square brackets [ ], while tuples use parentheses ( ).\n",
        "\n",
        "4) Describe how dictionaries store data.\n",
        "\n",
        "Answer:\n",
        "\n",
        "Dictionaries store data in key-value pairs. Each key is unique and maps to a specific value,which allows fast access and efficient retrieval of data using the key.The key should be unique to get proper results.\n",
        "Example: {\"name\": \"Alice\", \"age\": 25}\n",
        "\n",
        "5) Why might you use a set instead of a list in Python?\n",
        "\n",
        "Answer:\n",
        "\n",
        "We would use a set when you want to store only unique elements, since sets automatically remove duplicates.\n",
        "Example: set([1, 2, 2, 3]) → {1, 2, 3}\n",
        "\n",
        "6) What is a string in Python, and how is it different from a list?\n",
        "\n",
        "Answer:\n",
        "\n",
        "A string is a sequence of characters enclosed within single, double, or triple quotes. Unlike lists, strings are immutable, meaning their content cannot be changed after creation.\n",
        "\n",
        "7) How do tuples ensure data integrity in Python?\n",
        "\n",
        "Answer:\n",
        "\n",
        "Tuples ensure data integrity by being immutable. Once a tuple is created, its data cannot be modified, thus it is ideal for storing fixed data that shouldn’t changed.\n",
        "\n",
        "8. What is a hash table, and how does it relate to dictionaries in Python?\n",
        "\n",
        "Answer:\n",
        "\n",
        "A hash table is a data structure that maps keys to values using a hash function to compute an index into an array of buckets. In Python, dictionaries are implemented using hash tables, allowing fast lookup, insertion, and deletion operations using keys.\n",
        "\n",
        "9. Can lists contain different data types in Python?\n",
        "\n",
        "Answer:\n",
        "\n",
        "Yes, lists in Python can contain elements of different data types.\n",
        "Example: L = [1, 3, \"Subha\", (1, 2, 3), [1, 4, 5]]\n",
        "\n",
        "10. Explain why strings are immutable in Python.\n",
        "\n",
        "Answer:\n",
        "\n",
        "Strings are immutable in Python because once a string is created, its contents cannot be changed. Any operation that modifies a string actually creates a new string object, ensuring consistency and safety in memory handling.\n",
        "\n",
        "11. What advantages do dictionaries offer over lists for certain tasks?\n",
        "\n",
        "Answer:\n",
        "\n",
        "Dictionaries provide:\n",
        "•\tFaster data retrieval using keys (O(1) time complexity on average)\n",
        "\n",
        "•\tClear associations between keys and values\n",
        "\n",
        "•\tMore organized data representation for real-world entities like users or products\n",
        "Unlike lists, you don't need to search by index but can directly access data via a meaningful key.\n",
        "\n",
        "12. Describe a scenario where using a tuple would be preferable over a list.\n",
        "\n",
        "Answer:\n",
        "\n",
        "Tuples are preferred over list when we want to store fixed data that should not be changed, thus ensuring data integrity.\n",
        "Example: Storing geographic coordinates like (latitude, longitude) or days of the week, which remain constant.\n",
        "\n",
        "13. How do sets handle duplicate values in Python?\n",
        "\n",
        "Answer:\n",
        "\n",
        "Sets automatically remove duplicate values. When duplicate elements are added, only one instance is retained.\n",
        "Example: set([1, 2, 2, 3]) results in {1, 2, 3}\n",
        "\n",
        "14. How does the in keyword work differently for lists and dictionaries?\n",
        "\n",
        "Answer:\n",
        "\n",
        "•\tIn lists, in checks whether a value exists in the list.\n",
        "•\tIn dictionaries, in checks whether a key exists, not a value.\n",
        "Example:\n",
        "\n",
        "15. Can you modify the elements of a tuple? Explain why or why not.\n",
        "\n",
        "Answer:\n",
        "\n",
        "No, we cannot modify the elements of a tuple because tuples are\n",
        "immutable. This means that once a tuple is created, its elements cannot be changed, added, or removed. Unlike lists, which are mutable, tuples do not allow modification at specific indices.\n",
        "\n",
        "16. What is a nested dictionary, and give an example of its use case.\n",
        "\n",
        "Answer:\n",
        "\n",
        "A nested dictionary is a dictionary that contains another dictionary as\n",
        "a value. It's useful for representing hierarchical or structured data.\n",
        "Example:\n",
        "student = {\n",
        "    \"name\": \"John\",\n",
        "    \"grades\": {\n",
        "        \"math\": 90,\n",
        "        \"science\": 85\n",
        "    }\n",
        "}\n",
        "In this example, the grades key holds another dictionary containing subject-grade pairs.\n",
        "\n",
        "\n",
        "17. Describe the time complexity of accessing elements in a dictionary.\n",
        "\n",
        "Answer:\n",
        "\n",
        "The average time complexity for accessing elements in a dictionary is O(1), due to the underlying hash table implementation. However, in rare cases of hash collisions, it can degrade to O(n).\n",
        "\n",
        "18. In what situations are lists preferred over dictionaries?\n",
        "\n",
        "Answer:\n",
        "\n",
        "Lists are preferred when the order of elements matters, and when data is accessed by position (index) rather than by key. They're ideal for storing collections of similar items, like a list of numbers, strings, or objects.\n",
        "\n",
        "19. Why are dictionaries considered unordered, and how does that affect data retrieval?\n",
        "\n",
        "Answer:\n",
        "\n",
        "Dictionaries are considered unordered because the datas in a dictionary are stored in the key-value pair and not on the based of position/ indices. It affects the retrieval as unlike in some other data structures like the list, tuple the data of a dictionary is retrieved using its key and not its position.\n",
        "\n",
        "20. Explain the difference between a list and a dictionary in terms of data retrieval.\n",
        "\n",
        "Answer:\n",
        "In a list, elements are retrieved using integer indices (e.g., list[0]), and the order of elements matters. In contrast, a dictionary retrieves values using keys (e.g., dict[\"key\"]), and keys must be unique and hashable. This makes dictionaries more suitable for key-value pair storage and fast lookups by key.\n",
        "\n",
        "\n"
      ],
      "metadata": {
        "id": "Rby0QCOTFyn_"
      }
    },
    {
      "cell_type": "code",
      "source": [
        "# 1.Write a code to create a string with your name and print itP\n",
        "name= \"Subhabrata Mukherjee \"\n",
        "print(name)"
      ],
      "metadata": {
        "colab": {
          "base_uri": "https://localhost:8080/"
        },
        "id": "7cWIMQrdHdPQ",
        "outputId": "a40bc136-c267-4aeb-f039-1ea7a346584e"
      },
      "execution_count": 1,
      "outputs": [
        {
          "output_type": "stream",
          "name": "stdout",
          "text": [
            "Subhabrata Mukherjee \n"
          ]
        }
      ]
    },
    {
      "cell_type": "code",
      "source": [
        "# 2. Write a code to find the length of the string \"Hello World\"\n",
        "str1= \"Hello World\"\n",
        "length = len(str1)\n",
        "print(length)"
      ],
      "metadata": {
        "colab": {
          "base_uri": "https://localhost:8080/"
        },
        "id": "KHFPkBkdME_Y",
        "outputId": "2af499e7-213f-4678-f5a5-d44de457a312"
      },
      "execution_count": 2,
      "outputs": [
        {
          "output_type": "stream",
          "name": "stdout",
          "text": [
            "11\n"
          ]
        }
      ]
    },
    {
      "cell_type": "code",
      "source": [
        "# 3. Write a code to slice the first 3 characters from the string \"Python Programming\"\n",
        "str1= \"Python Programming\"\n",
        "wanted_string= str1[0:3]\n",
        "print(wanted_string)"
      ],
      "metadata": {
        "colab": {
          "base_uri": "https://localhost:8080/"
        },
        "id": "qLpK3gb4MYvJ",
        "outputId": "246e800c-4b0f-4407-cde2-e95b1874b89e"
      },
      "execution_count": 4,
      "outputs": [
        {
          "output_type": "stream",
          "name": "stdout",
          "text": [
            "Pyt\n"
          ]
        }
      ]
    },
    {
      "cell_type": "code",
      "source": [
        "# 4.  Write a code to convert the string \"hello\" to uppercase\n",
        "word= \"hello\"\n",
        "word_in_uppercase = word.upper()\n",
        "print(word_in_uppercase)"
      ],
      "metadata": {
        "colab": {
          "base_uri": "https://localhost:8080/"
        },
        "id": "TidthbURMsL4",
        "outputId": "53f49dc0-1c91-42e3-e272-14ce9926e1e8"
      },
      "execution_count": 6,
      "outputs": [
        {
          "output_type": "stream",
          "name": "stdout",
          "text": [
            "HELLO\n"
          ]
        }
      ]
    },
    {
      "cell_type": "code",
      "source": [
        "#5. Write a code to replace the word \"apple\" with \"orange\" in the string \"I like apple\"\n",
        "ori= \"I like apple\"\n",
        "new_w= ori.replace(\"apple\", \"orange\")\n",
        "print(new_w)"
      ],
      "metadata": {
        "colab": {
          "base_uri": "https://localhost:8080/"
        },
        "id": "HBrw5zfpM_R6",
        "outputId": "648f8e90-1a31-45f0-f74d-9dea1da3e300"
      },
      "execution_count": 7,
      "outputs": [
        {
          "output_type": "stream",
          "name": "stdout",
          "text": [
            "I like orange\n"
          ]
        }
      ]
    },
    {
      "cell_type": "code",
      "source": [
        "# 6. Write a code to create a list with numbers 1 to 5 and print itP\n",
        "l1= [1,2,3,4,5]\n",
        "print(l1)"
      ],
      "metadata": {
        "colab": {
          "base_uri": "https://localhost:8080/"
        },
        "id": "lVvnbq1oNU__",
        "outputId": "d0c33d26-2bd3-4562-e455-a5688a39de29"
      },
      "execution_count": 8,
      "outputs": [
        {
          "output_type": "stream",
          "name": "stdout",
          "text": [
            "[1, 2, 3, 4, 5]\n"
          ]
        }
      ]
    },
    {
      "cell_type": "code",
      "source": [
        "# 7. Write a code to append the number 10 to the list [1, 2, 3, 4]\n",
        "l1= [1, 2, 3, 4]\n",
        "l1.append(10)\n",
        "print(l1)"
      ],
      "metadata": {
        "colab": {
          "base_uri": "https://localhost:8080/"
        },
        "id": "eVs5YIRLNfvW",
        "outputId": "561f8cd8-3e48-4ff3-dd2d-e1bd91aa02a9"
      },
      "execution_count": 9,
      "outputs": [
        {
          "output_type": "stream",
          "name": "stdout",
          "text": [
            "[1, 2, 3, 4, 10]\n"
          ]
        }
      ]
    },
    {
      "cell_type": "code",
      "source": [
        "# 8. Write a code to remove the number 3 from the list [1, 2, 3, 4, 5]\n",
        "l1 = [1, 2, 3, 4, 5]\n",
        "l2 = l1.copy()\n",
        "l2.remove(3)\n",
        "print(l2)"
      ],
      "metadata": {
        "colab": {
          "base_uri": "https://localhost:8080/"
        },
        "id": "NqxxrGtgNqvF",
        "outputId": "d5be1fac-f314-4fc7-83ab-b2b76c2d9407"
      },
      "execution_count": 13,
      "outputs": [
        {
          "output_type": "stream",
          "name": "stdout",
          "text": [
            "[1, 2, 4, 5]\n"
          ]
        }
      ]
    },
    {
      "cell_type": "code",
      "source": [
        "# 9. Write a code to access the second element in the list ['a', 'b', 'c', 'd']\n",
        "l1 = ['a', 'b', 'c', 'd']\n",
        "print(l1[-2])"
      ],
      "metadata": {
        "colab": {
          "base_uri": "https://localhost:8080/"
        },
        "id": "E-qSNHOtN4sl",
        "outputId": "596d421d-3f1c-4b42-caed-44d3eb09e5dd"
      },
      "execution_count": 11,
      "outputs": [
        {
          "output_type": "stream",
          "name": "stdout",
          "text": [
            "c\n"
          ]
        }
      ]
    },
    {
      "cell_type": "code",
      "source": [
        "# 10. P Write a code to reverse the list [10, 20, 30, 40, 50].\n",
        "l1= [10, 20, 30, 40, 50]\n",
        "l2= l1[::-1]\n",
        "print(l2)"
      ],
      "metadata": {
        "colab": {
          "base_uri": "https://localhost:8080/"
        },
        "id": "-MYVTeYvOFNa",
        "outputId": "a663963b-8c01-4141-aae8-50f9a0c967ca"
      },
      "execution_count": 12,
      "outputs": [
        {
          "output_type": "stream",
          "name": "stdout",
          "text": [
            "[50, 40, 30, 20, 10]\n"
          ]
        }
      ]
    },
    {
      "cell_type": "code",
      "source": [
        "# 11.  Write a code to create a tuple with the elements 100, 200, 300 and print it\n",
        "tup= (100, 200, 300)\n",
        "print(tup)"
      ],
      "metadata": {
        "colab": {
          "base_uri": "https://localhost:8080/"
        },
        "id": "EV8iL5UdOWKz",
        "outputId": "f27a4699-fa56-41d5-f52c-2433396b0016"
      },
      "execution_count": 1,
      "outputs": [
        {
          "output_type": "stream",
          "name": "stdout",
          "text": [
            "(100, 200, 300)\n"
          ]
        }
      ]
    },
    {
      "cell_type": "code",
      "source": [
        "# 12. Write a code to access the second-to-last element of the tuple ('red', 'green', 'blue', 'yellow').\n",
        "tup1= ('red', 'green', 'blue', 'yellow')\n",
        "print(tup1[-2])"
      ],
      "metadata": {
        "colab": {
          "base_uri": "https://localhost:8080/"
        },
        "id": "0mejNqKjLz8D",
        "outputId": "f88cafe4-1e9f-4b96-9154-fb3e36473d7c"
      },
      "execution_count": 2,
      "outputs": [
        {
          "output_type": "stream",
          "name": "stdout",
          "text": [
            "blue\n"
          ]
        }
      ]
    },
    {
      "cell_type": "code",
      "source": [
        "# 13. Write a code to find the minimum number in the tuple (10, 20, 5, 15).\n",
        "tup1= (10, 20, 5, 15)\n",
        "mini= min(tup1)\n",
        "print(mini)"
      ],
      "metadata": {
        "colab": {
          "base_uri": "https://localhost:8080/"
        },
        "id": "GWBpY0z9MBjs",
        "outputId": "5375e0cf-6952-452c-dfe3-b5c0741801e1"
      },
      "execution_count": 4,
      "outputs": [
        {
          "output_type": "stream",
          "name": "stdout",
          "text": [
            "5\n"
          ]
        }
      ]
    },
    {
      "cell_type": "code",
      "source": [
        "# 14. Write a code to find the index of the element \"cat\" in the tuple ('dog', 'cat', 'rabbit').\n",
        "tup1 = ('dog', 'cat', 'rabbit')\n",
        "cat_index = tup1.index('cat')\n",
        "print(cat_index)\n"
      ],
      "metadata": {
        "colab": {
          "base_uri": "https://localhost:8080/"
        },
        "id": "eUgbFmyAMSDP",
        "outputId": "0ea70a0d-c717-45c1-c2b4-a18572c5940a"
      },
      "execution_count": 6,
      "outputs": [
        {
          "output_type": "stream",
          "name": "stdout",
          "text": [
            "1\n"
          ]
        }
      ]
    },
    {
      "cell_type": "code",
      "source": [
        "# 15. Write a code to create a tuple containing three different fruits and check if \"kiwi\" is in it.\n",
        "fruits = (\"apple\", \"kiwi\", \"mango\")\n",
        "if \"kiwi\" in fruits:\n",
        "    print(\"kiwi is in the tuple\")\n",
        "else:\n",
        "    print(\"kiwi is not in the tuple\")\n"
      ],
      "metadata": {
        "colab": {
          "base_uri": "https://localhost:8080/"
        },
        "id": "qDuW1pmuMe59",
        "outputId": "fc2113c3-6df0-4d7b-e507-85b1c447a7ef"
      },
      "execution_count": 8,
      "outputs": [
        {
          "output_type": "stream",
          "name": "stdout",
          "text": [
            "kiwi is in the tuple\n"
          ]
        }
      ]
    },
    {
      "cell_type": "code",
      "source": [
        "# 16. Write a code to create a set with the elements 'a', 'b', 'c' and print it.\n",
        "set1 = {'a', 'b', 'c'}\n",
        "print(set1)"
      ],
      "metadata": {
        "colab": {
          "base_uri": "https://localhost:8080/"
        },
        "id": "JdAAXHgBM2ab",
        "outputId": "98c126a7-6264-47b8-bfb6-13db351aef85"
      },
      "execution_count": 9,
      "outputs": [
        {
          "output_type": "stream",
          "name": "stdout",
          "text": [
            "{'b', 'a', 'c'}\n"
          ]
        }
      ]
    },
    {
      "cell_type": "code",
      "source": [
        "# 17. Write a code to clear all elements from the set {1, 2, 3, 4, 5}.\n",
        "my_set = {1, 2, 3, 4, 5}\n",
        "my_set.clear()\n",
        "print(my_set)\n"
      ],
      "metadata": {
        "colab": {
          "base_uri": "https://localhost:8080/"
        },
        "id": "HYatTxUPNTKl",
        "outputId": "916df577-ad21-411f-8955-18bfcc9c291c"
      },
      "execution_count": 10,
      "outputs": [
        {
          "output_type": "stream",
          "name": "stdout",
          "text": [
            "set()\n"
          ]
        }
      ]
    },
    {
      "cell_type": "code",
      "source": [
        "# 18. Write a code to remove the element 4 from the set {1, 2, 3, 4}.\n",
        "my_set = {1, 2, 3, 4}\n",
        "my_set.remove(4)\n",
        "print(my_set)\n"
      ],
      "metadata": {
        "colab": {
          "base_uri": "https://localhost:8080/"
        },
        "id": "nq3-00maNcaa",
        "outputId": "87931ccf-8582-4612-c4ef-4cd9d4abe508"
      },
      "execution_count": 11,
      "outputs": [
        {
          "output_type": "stream",
          "name": "stdout",
          "text": [
            "{1, 2, 3}\n"
          ]
        }
      ]
    },
    {
      "cell_type": "code",
      "source": [
        "# 19. Write a code to find the union of two sets {1, 2, 3} and {3, 4, 5}.\n",
        "set1 = {1, 2, 3}\n",
        "set2 = {3, 4, 5}\n",
        "union_set = set1.union(set2)\n",
        "print(union_set)\n"
      ],
      "metadata": {
        "colab": {
          "base_uri": "https://localhost:8080/"
        },
        "id": "ZwvVnjYfNlX2",
        "outputId": "c77b931e-9386-4566-97f9-9ef94219d799"
      },
      "execution_count": 12,
      "outputs": [
        {
          "output_type": "stream",
          "name": "stdout",
          "text": [
            "{1, 2, 3, 4, 5}\n"
          ]
        }
      ]
    },
    {
      "cell_type": "code",
      "source": [
        "# 20. Write a code to find the intersection of two sets {1, 2, 3} and {2, 3, 4}.\n",
        "set1 = {1, 2, 3}\n",
        "set2 = {2, 3, 4}\n",
        "intersection_set = set1.intersection(set2)\n",
        "print(intersection_set)\n"
      ],
      "metadata": {
        "colab": {
          "base_uri": "https://localhost:8080/"
        },
        "id": "yUZ60QhLN1A0",
        "outputId": "11985f35-91bb-4b3b-a394-b530c61010ac"
      },
      "execution_count": 13,
      "outputs": [
        {
          "output_type": "stream",
          "name": "stdout",
          "text": [
            "{2, 3}\n"
          ]
        }
      ]
    },
    {
      "cell_type": "code",
      "source": [
        "# 21. Write a code to create a dictionary with the keys \"name\", \"age\", and \"city\", and print it.\n",
        "\n",
        "person = {\n",
        "    \"name\": \"John\",\n",
        "    \"age\": 30,\n",
        "    \"city\": \"New York\"\n",
        "}\n",
        "print(person)\n"
      ],
      "metadata": {
        "colab": {
          "base_uri": "https://localhost:8080/"
        },
        "id": "nrjHY0mYN9Bk",
        "outputId": "85ce6ade-3f4e-43b5-eafb-6393d21291e0"
      },
      "execution_count": 14,
      "outputs": [
        {
          "output_type": "stream",
          "name": "stdout",
          "text": [
            "{'name': 'John', 'age': 30, 'city': 'New York'}\n"
          ]
        }
      ]
    },
    {
      "cell_type": "code",
      "source": [
        "# 22. Write a code to add a new key-value pair \"country\": \"USA\" to the dictionary {'name': 'John', 'age': 25}.\n",
        "person = {'name': 'John', 'age': 25}\n",
        "person['country'] = 'USA'\n",
        "print(person)\n"
      ],
      "metadata": {
        "colab": {
          "base_uri": "https://localhost:8080/"
        },
        "id": "u8vleTBOOHgB",
        "outputId": "e8dc06cc-0116-4bed-df9a-d5e1b166f83d"
      },
      "execution_count": 15,
      "outputs": [
        {
          "output_type": "stream",
          "name": "stdout",
          "text": [
            "{'name': 'John', 'age': 25, 'country': 'USA'}\n"
          ]
        }
      ]
    },
    {
      "cell_type": "code",
      "source": [
        "# 23. Write a code to access the value associated with the key \"name\" in the dictionary {'name': 'Alice', 'age': 30}.\n",
        "person = {'name': 'Alice', 'age': 30}\n",
        "print(person['name'])\n"
      ],
      "metadata": {
        "colab": {
          "base_uri": "https://localhost:8080/"
        },
        "id": "v5WjpKczOcR3",
        "outputId": "74c0e7a3-4164-4177-8b92-6245f0baabb5"
      },
      "execution_count": 16,
      "outputs": [
        {
          "output_type": "stream",
          "name": "stdout",
          "text": [
            "Alice\n"
          ]
        }
      ]
    },
    {
      "cell_type": "code",
      "source": [
        "# 24. Write a code to remove the key \"age\" from the dictionary {'name': 'Bob', 'age': 22, 'city': 'New York'}.\n",
        "person = {'name': 'Bob', 'age': 22, 'city': 'New York'}\n",
        "person.pop('age')\n",
        "print(person)\n"
      ],
      "metadata": {
        "colab": {
          "base_uri": "https://localhost:8080/"
        },
        "id": "22bTE_FyOs58",
        "outputId": "20b82c4b-b685-48ba-a334-05c649264c94"
      },
      "execution_count": 17,
      "outputs": [
        {
          "output_type": "stream",
          "name": "stdout",
          "text": [
            "{'name': 'Bob', 'city': 'New York'}\n"
          ]
        }
      ]
    },
    {
      "cell_type": "code",
      "source": [
        "# 25. Write a code to check if the key \"city\" exists in the dictionary {'name': 'Alice', 'city': 'Paris'}.\n",
        "person = {'name': 'Alice', 'city': 'Paris'}\n",
        "if 'city' in person:\n",
        "    print(\"Key exists\")\n",
        "else:\n",
        "    print(\"Key does not exist\")\n"
      ],
      "metadata": {
        "colab": {
          "base_uri": "https://localhost:8080/"
        },
        "id": "2LmTvNk1Oy4L",
        "outputId": "fe10af5d-fcb4-453c-c5b9-f982b17f1fd7"
      },
      "execution_count": 18,
      "outputs": [
        {
          "output_type": "stream",
          "name": "stdout",
          "text": [
            "Key exists\n"
          ]
        }
      ]
    },
    {
      "cell_type": "code",
      "source": [
        "# 26. Write a code to create a list, a tuple, and a dictionary, and print them all.\n",
        "my_list = [1, 2, 3]\n",
        "my_tuple = ('a', 'b', 'c')\n",
        "my_dict = {'name': 'Tom', 'age': 28}\n",
        "\n",
        "print(my_list)\n",
        "print(my_tuple)\n",
        "print(my_dict)\n"
      ],
      "metadata": {
        "colab": {
          "base_uri": "https://localhost:8080/"
        },
        "id": "qMteXVN7O5wY",
        "outputId": "2a932e66-65b5-4944-8f51-cd608778e5ed"
      },
      "execution_count": 19,
      "outputs": [
        {
          "output_type": "stream",
          "name": "stdout",
          "text": [
            "[1, 2, 3]\n",
            "('a', 'b', 'c')\n",
            "{'name': 'Tom', 'age': 28}\n"
          ]
        }
      ]
    },
    {
      "cell_type": "code",
      "source": [
        "# 27. Write a code to create a list of 5 random numbers between 1 and 100, sort it in ascending order, and print the result.(replaced)\n",
        "import random\n",
        "\n",
        "numbers = random.sample(range(1, 101), 5)\n",
        "numbers.sort()\n",
        "print(numbers)\n"
      ],
      "metadata": {
        "colab": {
          "base_uri": "https://localhost:8080/"
        },
        "id": "HQKQQTiNPA-_",
        "outputId": "44bb7f8b-e39e-4aa5-9298-c88750135d26"
      },
      "execution_count": 20,
      "outputs": [
        {
          "output_type": "stream",
          "name": "stdout",
          "text": [
            "[18, 25, 52, 55, 56]\n"
          ]
        }
      ]
    },
    {
      "cell_type": "code",
      "source": [
        "# 28. Print element at third index in list of strings:\n",
        "words = [\"apple\", \"banana\", \"cherry\", \"date\", \"fig\"]\n",
        "print(words[3])\n"
      ],
      "metadata": {
        "colab": {
          "base_uri": "https://localhost:8080/"
        },
        "id": "DztTrdkqPKbA",
        "outputId": "6b9c645c-bab2-4b09-f4df-545f826b37b5"
      },
      "execution_count": 21,
      "outputs": [
        {
          "output_type": "stream",
          "name": "stdout",
          "text": [
            "date\n"
          ]
        }
      ]
    },
    {
      "cell_type": "code",
      "source": [
        "# 29. Write a code to combine two dictionaries into one and print the result.\n",
        "dict1 = {'a': 1, 'b': 2}\n",
        "dict2 = {'c': 3, 'd': 4}\n",
        "\n",
        "combined_dict = {**dict1, **dict2}\n",
        "print(combined_dict)\n"
      ],
      "metadata": {
        "colab": {
          "base_uri": "https://localhost:8080/"
        },
        "id": "16jJHruYPPI3",
        "outputId": "5f004115-652f-4e81-f89b-66f889c7a6dd"
      },
      "execution_count": 22,
      "outputs": [
        {
          "output_type": "stream",
          "name": "stdout",
          "text": [
            "{'a': 1, 'b': 2, 'c': 3, 'd': 4}\n"
          ]
        }
      ]
    },
    {
      "cell_type": "code",
      "source": [
        "# 30. Write a code to convert a list of strings into a set.\n",
        "my_list = [\"apple\", \"banana\", \"cherry\", \"apple\"]\n",
        "my_set = set(my_list)\n",
        "print(my_set)\n"
      ],
      "metadata": {
        "colab": {
          "base_uri": "https://localhost:8080/"
        },
        "id": "R8J02Jc0PdJ3",
        "outputId": "3d30da3f-d4a9-4dd4-b3c8-fc171fe339d8"
      },
      "execution_count": 23,
      "outputs": [
        {
          "output_type": "stream",
          "name": "stdout",
          "text": [
            "{'banana', 'cherry', 'apple'}\n"
          ]
        }
      ]
    },
    {
      "cell_type": "code",
      "source": [],
      "metadata": {
        "id": "pgh6-rDsPqe1"
      },
      "execution_count": null,
      "outputs": []
    }
  ]
}